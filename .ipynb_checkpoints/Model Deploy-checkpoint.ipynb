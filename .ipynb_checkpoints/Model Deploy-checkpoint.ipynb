{
 "cells": [
  {
   "cell_type": "code",
   "execution_count": 1,
   "id": "c1372a24",
   "metadata": {},
   "outputs": [],
   "source": [
    "import pickle\n",
    "import warnings\n",
    "warnings.filterwarnings(\"ignore\")"
   ]
  },
  {
   "cell_type": "code",
   "execution_count": 2,
   "id": "5499b264",
   "metadata": {},
   "outputs": [],
   "source": [
    "filename = 'finalized_model.sav'\n",
    "my_model = pickle.load(open(filename, 'rb'))"
   ]
  },
  {
   "cell_type": "code",
   "execution_count": 3,
   "id": "a1abb6ee",
   "metadata": {},
   "outputs": [
    {
     "data": {
      "text/plain": [
       "'coconut'"
      ]
     },
     "execution_count": 3,
     "metadata": {},
     "output_type": "execute_result"
    }
   ],
   "source": [
    "my_model.predict([[15,28,32,28.84270971,99.64328526,6.2185718739999984,224.4016682]])[0]"
   ]
  },
  {
   "cell_type": "code",
   "execution_count": 4,
   "id": "08219e41",
   "metadata": {},
   "outputs": [
    {
     "data": {
      "text/plain": [
       "array(['rice'], dtype=object)"
      ]
     },
     "execution_count": 4,
     "metadata": {},
     "output_type": "execute_result"
    }
   ],
   "source": [
    "my_model.predict([[90,42,43,20.87974371,82.00274423,6.502985292000001,202.9355362]])"
   ]
  },
  {
   "cell_type": "code",
   "execution_count": 5,
   "id": "a780d77d",
   "metadata": {},
   "outputs": [],
   "source": [
    "from flask import Flask, request, render_template"
   ]
  },
  {
   "cell_type": "code",
   "execution_count": 6,
   "id": "a98ca87a",
   "metadata": {},
   "outputs": [
    {
     "name": "stdout",
     "output_type": "stream",
     "text": [
      " * Serving Flask app '__main__'\n",
      " * Debug mode: off\n"
     ]
    },
    {
     "name": "stderr",
     "output_type": "stream",
     "text": [
      "WARNING: This is a development server. Do not use it in a production deployment. Use a production WSGI server instead.\n",
      " * Running on http://127.0.0.1:5000\n",
      "Press CTRL+C to quit\n",
      "127.0.0.1 - - [10/May/2023 09:21:31] \"GET / HTTP/1.1\" 200 -\n",
      "127.0.0.1 - - [10/May/2023 09:21:32] \"GET /favicon.ico HTTP/1.1\" 404 -\n",
      "[2023-05-10 09:23:08,320] ERROR in app: Exception on / [POST]\n",
      "Traceback (most recent call last):\n",
      "  File \"C:\\Users\\hp\\AppData\\Roaming\\Python\\Python311\\site-packages\\flask\\app.py\", line 2190, in wsgi_app\n",
      "    response = self.full_dispatch_request()\n",
      "               ^^^^^^^^^^^^^^^^^^^^^^^^^^^^\n",
      "  File \"C:\\Users\\hp\\AppData\\Roaming\\Python\\Python311\\site-packages\\flask\\app.py\", line 1486, in full_dispatch_request\n",
      "    rv = self.handle_user_exception(e)\n",
      "         ^^^^^^^^^^^^^^^^^^^^^^^^^^^^^\n",
      "  File \"C:\\Users\\hp\\AppData\\Roaming\\Python\\Python311\\site-packages\\flask\\app.py\", line 1484, in full_dispatch_request\n",
      "    rv = self.dispatch_request()\n",
      "         ^^^^^^^^^^^^^^^^^^^^^^^\n",
      "  File \"C:\\Users\\hp\\AppData\\Roaming\\Python\\Python311\\site-packages\\flask\\app.py\", line 1469, in dispatch_request\n",
      "    return self.ensure_sync(self.view_functions[rule.endpoint])(**view_args)\n",
      "           ^^^^^^^^^^^^^^^^^^^^^^^^^^^^^^^^^^^^^^^^^^^^^^^^^^^^^^^^^^^^^^^^^\n",
      "  File \"C:\\Users\\hp\\AppData\\Local\\Temp\\ipykernel_13388\\2765177934.py\", line 17, in predict\n",
      "    crop=my_model.predict([[n,p,k,temp,humid,ph,rain]])[0]\n",
      "         ^^^^^^^^^^^^^^^^^^^^^^^^^^^^^^^^^^^^^^^^^^^^^^\n",
      "  File \"C:\\Users\\hp\\AppData\\Roaming\\Python\\Python311\\site-packages\\sklearn\\svm\\_base.py\", line 820, in predict\n",
      "    y = super().predict(X)\n",
      "        ^^^^^^^^^^^^^^^^^^\n",
      "  File \"C:\\Users\\hp\\AppData\\Roaming\\Python\\Python311\\site-packages\\sklearn\\svm\\_base.py\", line 433, in predict\n",
      "    X = self._validate_for_predict(X)\n",
      "        ^^^^^^^^^^^^^^^^^^^^^^^^^^^^^\n",
      "  File \"C:\\Users\\hp\\AppData\\Roaming\\Python\\Python311\\site-packages\\sklearn\\svm\\_base.py\", line 613, in _validate_for_predict\n",
      "    X = self._validate_data(\n",
      "        ^^^^^^^^^^^^^^^^^^^^\n",
      "  File \"C:\\Users\\hp\\AppData\\Roaming\\Python\\Python311\\site-packages\\sklearn\\base.py\", line 565, in _validate_data\n",
      "    X = check_array(X, input_name=\"X\", **check_params)\n",
      "        ^^^^^^^^^^^^^^^^^^^^^^^^^^^^^^^^^^^^^^^^^^^^^^\n",
      "  File \"C:\\Users\\hp\\AppData\\Roaming\\Python\\Python311\\site-packages\\sklearn\\utils\\validation.py\", line 879, in check_array\n",
      "    array = _asarray_with_order(array, order=order, dtype=dtype, xp=xp)\n",
      "            ^^^^^^^^^^^^^^^^^^^^^^^^^^^^^^^^^^^^^^^^^^^^^^^^^^^^^^^^^^^\n",
      "  File \"C:\\Users\\hp\\AppData\\Roaming\\Python\\Python311\\site-packages\\sklearn\\utils\\_array_api.py\", line 185, in _asarray_with_order\n",
      "    array = numpy.asarray(array, order=order, dtype=dtype)\n",
      "            ^^^^^^^^^^^^^^^^^^^^^^^^^^^^^^^^^^^^^^^^^^^^^^\n",
      "ValueError: could not convert string to float: ''\n",
      "127.0.0.1 - - [10/May/2023 09:23:08] \"POST / HTTP/1.1\" 500 -\n",
      "127.0.0.1 - - [10/May/2023 09:23:33] \"GET / HTTP/1.1\" 200 -\n",
      "127.0.0.1 - - [10/May/2023 09:24:17] \"POST / HTTP/1.1\" 200 -\n",
      "127.0.0.1 - - [10/May/2023 09:24:56] \"POST / HTTP/1.1\" 200 -\n"
     ]
    }
   ],
   "source": [
    "app = Flask(__name__)\n",
    "\n",
    "\n",
    "@app.route(\"/\",methods=['get'])\n",
    "def index():\n",
    "    return render_template(\"/index.html\")\n",
    "\n",
    "@app.route(\"/\",methods=['post'])\n",
    "def predict():\n",
    "    n = request.form[\"N\"]\n",
    "    p = request.form[\"P\"]\n",
    "    k = request.form[\"K\"]\n",
    "    temp = request.form[\"temperature\"]\n",
    "    humid = request.form[\"humidity\"]\n",
    "    ph = request.form[\"ph\"]\n",
    "    rain = request.form[\"rainfall\"]\n",
    "    crop=my_model.predict([[n,p,k,temp,humid,ph,rain]])[0]\n",
    "    return render_template(\"index.html\",crop=crop)\n",
    "\n",
    "\n",
    "app.run()"
   ]
  },
  {
   "cell_type": "code",
   "execution_count": null,
   "id": "ad3844de",
   "metadata": {},
   "outputs": [],
   "source": []
  }
 ],
 "metadata": {
  "kernelspec": {
   "display_name": "Python 3 (ipykernel)",
   "language": "python",
   "name": "python3"
  },
  "language_info": {
   "codemirror_mode": {
    "name": "ipython",
    "version": 3
   },
   "file_extension": ".py",
   "mimetype": "text/x-python",
   "name": "python",
   "nbconvert_exporter": "python",
   "pygments_lexer": "ipython3",
   "version": "3.11.2"
  }
 },
 "nbformat": 4,
 "nbformat_minor": 5
}
