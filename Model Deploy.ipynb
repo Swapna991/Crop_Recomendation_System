{
 "cells": [
  {
   "cell_type": "code",
   "execution_count": 1,
   "id": "c1372a24",
   "metadata": {},
   "outputs": [],
   "source": [
    "import pickle\n",
    "import warnings\n",
    "warnings.filterwarnings(\"ignore\")"
   ]
  },
  {
   "cell_type": "code",
   "execution_count": 2,
   "id": "5499b264",
   "metadata": {},
   "outputs": [],
   "source": [
    "filename = 'finalized_model.sav'\n",
    "my_model = pickle.load(open(filename, 'rb'))"
   ]
  },
  {
   "cell_type": "code",
   "execution_count": 3,
   "id": "a1abb6ee",
   "metadata": {},
   "outputs": [
    {
     "data": {
      "text/plain": [
       "'coconut'"
      ]
     },
     "execution_count": 3,
     "metadata": {},
     "output_type": "execute_result"
    }
   ],
   "source": [
    "my_model.predict([[15,28,32,28.84270971,99.64328526,6.2185718739999984,224.4016682]])[0]"
   ]
  },
  {
   "cell_type": "markdown",
   "id": "d72c0f69",
   "metadata": {},
   "source": []
  },
  {
   "cell_type": "code",
   "execution_count": 4,
   "id": "08219e41",
   "metadata": {},
   "outputs": [
    {
     "data": {
      "text/plain": [
       "array(['rice'], dtype=object)"
      ]
     },
     "execution_count": 4,
     "metadata": {},
     "output_type": "execute_result"
    }
   ],
   "source": [
    "my_model.predict([[90,42,43,20.87974371,82.00274423,6.502985292000001,202.9355362]])"
   ]
  },
  {
   "cell_type": "code",
   "execution_count": 5,
   "id": "a780d77d",
   "metadata": {},
   "outputs": [],
   "source": [
    "from flask import Flask, request, render_template"
   ]
  },
  {
   "cell_type": "code",
   "execution_count": null,
   "id": "a98ca87a",
   "metadata": {},
   "outputs": [
    {
     "name": "stdout",
     "output_type": "stream",
     "text": [
      " * Serving Flask app '__main__'\n",
      " * Debug mode: off\n"
     ]
    },
    {
     "name": "stderr",
     "output_type": "stream",
     "text": [
      "WARNING: This is a development server. Do not use it in a production deployment. Use a production WSGI server instead.\n",
      " * Running on http://127.0.0.1:5000\n",
      "Press CTRL+C to quit\n",
      "127.0.0.1 - - [26/Apr/2024 10:27:13] \"GET / HTTP/1.1\" 200 -\n",
      "127.0.0.1 - - [26/Apr/2024 10:27:14] \"GET /istockphoto-168307835-612x612.jpg HTTP/1.1\" 404 -\n",
      "127.0.0.1 - - [26/Apr/2024 10:27:14] \"GET /img_girl.jpg HTTP/1.1\" 404 -\n",
      "127.0.0.1 - - [26/Apr/2024 10:27:14] \"GET /favicon.ico HTTP/1.1\" 404 -\n",
      "127.0.0.1 - - [26/Apr/2024 10:27:32] \"POST / HTTP/1.1\" 200 -\n",
      "127.0.0.1 - - [26/Apr/2024 10:27:32] \"GET /istockphoto-168307835-612x612.jpg HTTP/1.1\" 404 -\n",
      "127.0.0.1 - - [26/Apr/2024 10:27:32] \"GET /img_girl.jpg HTTP/1.1\" 404 -\n"
     ]
    }
   ],
   "source": [
    "app = Flask(__name__)\n",
    "\n",
    "\n",
    "@app.route(\"/\",methods=['get'])\n",
    "def index():\n",
    "    return render_template(\"/index.html\")\n",
    "\n",
    "@app.route(\"/\",methods=['post'])\n",
    "def predict():\n",
    "    n = request.form[\"N\"]\n",
    "    p = request.form[\"P\"]\n",
    "    k = request.form[\"K\"]\n",
    "    temp = request.form[\"temperature\"]\n",
    "    humid = request.form[\"humidity\"]\n",
    "    ph = request.form[\"ph\"]\n",
    "    rain = request.form[\"rainfall\"]\n",
    "    crop=my_model.predict([[n,p,k,temp,humid,ph,rain]])[0]\n",
    "    return render_template(\"index.html\",crop=crop)\n",
    "\n",
    "\n",
    "app.run()"
   ]
  },
  {
   "cell_type": "code",
   "execution_count": null,
   "id": "ad3844de",
   "metadata": {},
   "outputs": [],
   "source": []
  },
  {
   "cell_type": "code",
   "execution_count": null,
   "id": "2229e7c7",
   "metadata": {},
   "outputs": [],
   "source": []
  }
 ],
 "metadata": {
  "kernelspec": {
   "display_name": "Python 3 (ipykernel)",
   "language": "python",
   "name": "python3"
  },
  "language_info": {
   "codemirror_mode": {
    "name": "ipython",
    "version": 3
   },
   "file_extension": ".py",
   "mimetype": "text/x-python",
   "name": "python",
   "nbconvert_exporter": "python",
   "pygments_lexer": "ipython3",
   "version": "3.11.2"
  }
 },
 "nbformat": 4,
 "nbformat_minor": 5
}
